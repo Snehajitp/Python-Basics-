{
  "nbformat": 4,
  "nbformat_minor": 0,
  "metadata": {
    "colab": {
      "provenance": []
    },
    "kernelspec": {
      "name": "python3",
      "display_name": "Python 3"
    },
    "language_info": {
      "name": "python"
    }
  },
  "cells": [
    {
      "cell_type": "markdown",
      "source": [
        "**Python Basics Questions**"
      ],
      "metadata": {
        "id": "OE4_6Jm3KnGu"
      }
    },
    {
      "cell_type": "markdown",
      "source": [
        "1 What is Python, and why is it popular?\n",
        "\n",
        "--> Python is a high-level programming language that is easy to read and write. It is popular because it has a simple syntax, supports multiple programming styles (like object-oriented and functional), and has a large number of libraries for different purposes like data science, web development, and automation."
      ],
      "metadata": {
        "id": "Eds9SfQCycPr"
      }
    },
    {
      "cell_type": "markdown",
      "source": [
        "2 What is an interpreter in Python?\n",
        "\n",
        "--> An interpreter is a program that reads and executes Python code line by line. It converts the Python code into machine code so the computer can understand and run it."
      ],
      "metadata": {
        "id": "5ehfZklKyRF1"
      }
    },
    {
      "cell_type": "markdown",
      "source": [
        "3 What are pre-defined keywords in Python?\n",
        "\n",
        "-->Pre-defined keywords are reserved words in Python that have special meanings. Examples include if, else, while, for, def, and return. We cannot use them as variable names.\n",
        "we can use below code to see all the key words-\n",
        "help(keywords)"
      ],
      "metadata": {
        "id": "ItEjBhoWyQ5u"
      }
    },
    {
      "cell_type": "markdown",
      "source": [
        "4 Can keywords be used as variable names?\n",
        "\n",
        "-->  No, keywords cannot be used as variable names because they are reserved for specific functions in the language."
      ],
      "metadata": {
        "id": "4brskMoGyQwv"
      }
    },
    {
      "cell_type": "markdown",
      "source": [
        "5 What is mutability in Python?\n",
        "\n",
        "--> Mutability refers to whether an object can be changed after it is created. If it can be changed, it is called mutable; if not, it is immutable.\n",
        "\n"
      ],
      "metadata": {
        "id": "KksFbaiTyQmv"
      }
    },
    {
      "cell_type": "markdown",
      "source": [
        "6 Why are lists mutable, but tuples are immutable?\n",
        "\n",
        "-->  Lists are mutable because we can add, remove, or change items in them after they are created. Tuples are immutable to keep data safe and prevent accidental changes, which is useful when we want to store constant data.\n",
        "\n"
      ],
      "metadata": {
        "id": "1j9lpE9gyQeh"
      }
    },
    {
      "cell_type": "markdown",
      "source": [
        "7 What is the difference between “==” and “is” operators in Python?\n",
        "\n",
        "--> \" == \" checks if the values of two variables are the same.\n",
        "\n",
        "\"is\" checks if two variables point to the same object in memory.\n",
        "\n"
      ],
      "metadata": {
        "id": "86BuSD08yQUn"
      }
    },
    {
      "cell_type": "markdown",
      "source": [
        "8 What are logical operators in Python?\n",
        "\n",
        "--> there are three logical operators in python -\n",
        "\n",
        "1 and = True if both conditions are True\n",
        "\n",
        "2 or = True if at least one condition is True\n",
        "\n",
        "3 not =  Reverses the result (True becomes False)"
      ],
      "metadata": {
        "id": "MssK5LxMyQLP"
      }
    },
    {
      "cell_type": "markdown",
      "source": [
        "9 What is type casting in Python?\n",
        "\n",
        "--> Type casting is the process of converting one data type into another, like changing a string \"10\" into an integer 10."
      ],
      "metadata": {
        "id": "WjfJszxqyQAS"
      }
    },
    {
      "cell_type": "markdown",
      "source": [
        "10 What is the difference between implicit and explicit type casting?\n",
        "\n",
        "--> Difference between implicit and explicit type casting -\n",
        "\n",
        "1 Implicit casting is done automatically by Python.\n",
        "Example: int + float = float\n",
        "\n",
        "2 Explicit casting is done by the programmer using functions like int(), float(), str(), etc."
      ],
      "metadata": {
        "id": "KdDb1nqF0Iqp"
      }
    },
    {
      "cell_type": "markdown",
      "source": [
        "11 What is the purpose of conditional statements in Python?\n",
        "\n",
        "--> Conditional statements allow a program to make decisions based on certain conditions using if, elif, and else. They help control the flow of the program."
      ],
      "metadata": {
        "id": "uhMlFFh20UrT"
      }
    },
    {
      "cell_type": "markdown",
      "source": [
        "12 How does the elif statement work  ?\n",
        "\n",
        "--> The elif (else if) statement checks another condition if the previous if condition is False. It is used when we have multiple conditions."
      ],
      "metadata": {
        "id": "GrRwkZLB0W2F"
      }
    },
    {
      "cell_type": "markdown",
      "source": [
        "13 What is the difference between for and while loops?\n",
        "\n",
        "--> Difference between for and while loops -\n",
        "\n",
        "1 A for loop is used when we know how many times we want to repeat something.\n",
        "\n",
        "2 A while loop is used when we want to repeat something until a condition becomes False.\n",
        "\n",
        "\n"
      ],
      "metadata": {
        "id": "ETsirlzN0l7I"
      }
    },
    {
      "cell_type": "markdown",
      "source": [
        "14 Describe a scenario where a while loop is more suitable than a for loop?\n",
        "\n",
        "--> If we are asking a user to enter a password until they get it right, we do not know how many times they will try. So, a while loop is better because it keeps running until the correct password is entered.\n",
        "\n"
      ],
      "metadata": {
        "id": "spLP7_3K0sXj"
      }
    },
    {
      "cell_type": "markdown",
      "source": [
        "**Practical Questions**"
      ],
      "metadata": {
        "id": "Mkv_FPjyv6Hp"
      }
    },
    {
      "cell_type": "code",
      "execution_count": null,
      "metadata": {
        "id": "B3soCLksvzbd",
        "colab": {
          "base_uri": "https://localhost:8080/"
        },
        "outputId": "61ac7d2a-4371-413d-be7a-ebbb67fc24ab"
      },
      "outputs": [
        {
          "output_type": "stream",
          "name": "stdout",
          "text": [
            "Hello, World!\n"
          ]
        }
      ],
      "source": [
        "# 1 Write a Python program to print \"Hello, World!\"\"\n",
        "\n",
        "print(\"Hello, World!\")"
      ]
    },
    {
      "cell_type": "code",
      "source": [
        "#2 Write a Python program that displays your name and age.\n",
        "\n",
        "name=\"Sneha\"\n",
        "age=22\n",
        "print(\"my name is \"+name+\" and my age is \",age )"
      ],
      "metadata": {
        "colab": {
          "base_uri": "https://localhost:8080/"
        },
        "id": "wuTzOUU8v2M9",
        "outputId": "90dab237-2358-47c5-ef14-759377a73e32"
      },
      "execution_count": null,
      "outputs": [
        {
          "output_type": "stream",
          "name": "stdout",
          "text": [
            "my name is Sneha and my age is  22\n"
          ]
        }
      ]
    },
    {
      "cell_type": "code",
      "source": [
        "#3 Write code to print all the pre-defined keywords in Python using the keyword library\n",
        "\n",
        "help(\"keywords\")"
      ],
      "metadata": {
        "colab": {
          "base_uri": "https://localhost:8080/"
        },
        "id": "QaxQXS5iv2Pw",
        "outputId": "66a5fd1a-7795-4666-b223-55510b05f3d9"
      },
      "execution_count": null,
      "outputs": [
        {
          "output_type": "stream",
          "name": "stdout",
          "text": [
            "\n",
            "Here is a list of the Python keywords.  Enter any keyword to get more help.\n",
            "\n",
            "False               class               from                or\n",
            "None                continue            global              pass\n",
            "True                def                 if                  raise\n",
            "and                 del                 import              return\n",
            "as                  elif                in                  try\n",
            "assert              else                is                  while\n",
            "async               except              lambda              with\n",
            "await               finally             nonlocal            yield\n",
            "break               for                 not                 \n",
            "\n"
          ]
        }
      ]
    },
    {
      "cell_type": "code",
      "source": [
        "#4 Write a program that checks if a given word is a Python keyword.\n",
        "\n",
        "import keyword\n",
        "keyword.iskeyword(\"if\")"
      ],
      "metadata": {
        "colab": {
          "base_uri": "https://localhost:8080/"
        },
        "id": "iwOvvi0Dv2Sq",
        "outputId": "c79f3f9c-e93a-43e3-d833-09acc4b7fb04"
      },
      "execution_count": null,
      "outputs": [
        {
          "output_type": "execute_result",
          "data": {
            "text/plain": [
              "True"
            ]
          },
          "metadata": {},
          "execution_count": 5
        }
      ]
    },
    {
      "cell_type": "code",
      "source": [
        "# 5. Create a list and tuple in Python, and demonstrate how attempting to change an element works differently for each.\n",
        "def demonstrate_arguments(l, t):\n",
        "  print(f\"  Mutable List: {l} (ID: {id(l)})\")\n",
        "  print(f\"  Immutable Integer: {t} (ID: {id(t)})\")\n",
        "\n",
        "l = [1,2,3,4,5]\n",
        "t=(1,2,3,4,5)\n",
        "print(f\"Inside the function (before modification):\")\n",
        "demonstrate_arguments(l, t)\n",
        "  # Modify the mutable list\n",
        "l.append(4)  # Modifies the list in-place\n",
        "\n",
        "  # Attempt to modify the immutable integer\n",
        "t = t + (4,) # Creates a new  object, does not modify the original\n",
        "print(f\"Inside the function (after modification):\")\n",
        "demonstrate_arguments(l, t)\n",
        "\n",
        "\n",
        "# when we are tryong to change l[0] then it is changing the value of l[0] from 1 to 10 but when we are tring to change to the value of t[0] then it is creating\n",
        "# new tuple object instead of adding new element in original because tuple is a immutable data type in which we can not change in tuple object once an object is created."
      ],
      "metadata": {
        "colab": {
          "base_uri": "https://localhost:8080/"
        },
        "id": "x_PvrTnCv2WF",
        "outputId": "79f8a681-5024-4cd3-d85e-6101597db31e"
      },
      "execution_count": null,
      "outputs": [
        {
          "output_type": "stream",
          "name": "stdout",
          "text": [
            "Inside the function (before modification):\n",
            "  Mutable List: [1, 2, 3, 4, 5] (ID: 135713271441408)\n",
            "  Immutable Integer: (1, 2, 3, 4, 5) (ID: 135713270791792)\n",
            "Inside the function (after modification):\n",
            "  Mutable List: [1, 2, 3, 4, 5, 4] (ID: 135713271441408)\n",
            "  Immutable Integer: (1, 2, 3, 4, 5, 4) (ID: 135713272106240)\n"
          ]
        }
      ]
    },
    {
      "cell_type": "code",
      "source": [
        "# 6. Write a function to demonstrate the behavior of mutable and immutable arguments.\n",
        "\n",
        "def demonstrate_arguments(l, t):\n",
        "  print(f\"  Mutable List: {l} (ID: {id(l)})\")\n",
        "  print(f\"  Immutable Integer: {t} (ID: {id(t)})\")\n",
        "\n",
        "l = [1,2,3,4,5]\n",
        "t=(1,2,3,4,5)\n",
        "print(f\"Inside the function (before modification):\")\n",
        "demonstrate_arguments(l, t)\n",
        "  # Modify the mutable list\n",
        "l.append(4)  # Modifies the list in-place\n",
        "\n",
        "  # Attempt to modify the immutable integer\n",
        "t = t + (4,) # Creates a new integer object, does not modify the original\n",
        "print(f\"Inside the function (after modification):\")\n",
        "demonstrate_arguments(l, t)"
      ],
      "metadata": {
        "colab": {
          "base_uri": "https://localhost:8080/"
        },
        "id": "ZST_OpBev2qG",
        "outputId": "62248b7d-76c6-4087-dd7e-c8258010a270"
      },
      "execution_count": null,
      "outputs": [
        {
          "output_type": "stream",
          "name": "stdout",
          "text": [
            "Inside the function (before modification):\n",
            "  Mutable List: [1, 2, 3, 4, 5] (ID: 135714399592512)\n",
            "  Immutable Integer: (1, 2, 3, 4, 5) (ID: 135713924865600)\n",
            "Inside the function (after modification):\n",
            "  Mutable List: [1, 2, 3, 4, 5, 4] (ID: 135714399592512)\n",
            "  Immutable Integer: (1, 2, 3, 4, 5, 4) (ID: 135714399233952)\n"
          ]
        }
      ]
    },
    {
      "cell_type": "code",
      "source": [
        "# 7. Write a program that performs basic arithmetic operations on two user-input numbers.\n",
        "\n",
        "a = int(input(\"enter a =\"))\n",
        "b = int(input(\"enter b =\"))\n",
        "print(\"addition of a and b is \",a+b)\n",
        "print(\"subtraction of a and b is \",a-b)\n",
        "print(\"multiplication of a and b is \",a*b)\n",
        "print(\"division of a and b is \",a/b)\n",
        "print(\"floor division of a and b is \",a//b)\n",
        "print(\"modulus of a and b is \",a%b)\n",
        "print(\"exponent of a and b is \",a**b)\n"
      ],
      "metadata": {
        "colab": {
          "base_uri": "https://localhost:8080/"
        },
        "id": "CnCS5udZv2tj",
        "outputId": "48c462cf-62a6-4fe9-f3b1-f36e098e2ab7"
      },
      "execution_count": null,
      "outputs": [
        {
          "output_type": "stream",
          "name": "stdout",
          "text": [
            "enter a =3\n",
            "enter b =4\n",
            "addition of a and b is  7\n",
            "subtraction of a and b is  -1\n",
            "multiplication of a and b is  12\n",
            "division of a and b is  0.75\n",
            "floor division of a and b is  0\n",
            "modulus of a and b is  3\n",
            "exponent of a and b is  81\n"
          ]
        }
      ]
    },
    {
      "cell_type": "code",
      "source": [
        "# 8. Write a program to demonstrate the use of logical operators\n",
        "\n",
        "x = 5\n",
        "y = 4\n",
        "\n",
        "if (x%2==0 and y%2==0):\n",
        "  print(\"both are even\")\n",
        "elif(x%2==0 or y%2!=0):\n",
        "  print(\"one is even second one is odd\")\n",
        "elif(x%2!=0 and y%2==0):\n",
        "  print(\"one is odd second is even\")\n",
        "else:\n",
        "  print(\"both are odd\")"
      ],
      "metadata": {
        "colab": {
          "base_uri": "https://localhost:8080/"
        },
        "id": "CzgKrRthv2_3",
        "outputId": "631d7c91-8772-4632-c2fd-2166bdeecc89"
      },
      "execution_count": null,
      "outputs": [
        {
          "output_type": "stream",
          "name": "stdout",
          "text": [
            "one is odd second is even\n"
          ]
        }
      ]
    },
    {
      "cell_type": "code",
      "source": [
        "# 9. Write a Python program to convert user input from string to integer, float, and boolean types\n",
        "a = input(\"enter integer =\")\n",
        "print(int(a))\n",
        "b = input(\"enter float = \")\n",
        "print(float(b))\n",
        "c = input(\"enter boolean(true or false) = \")\n",
        "print(bool(c))\n"
      ],
      "metadata": {
        "colab": {
          "base_uri": "https://localhost:8080/"
        },
        "id": "UaVGh7Hdv3DO",
        "outputId": "9d52c116-8616-49f1-9d4f-d84dcb571c82"
      },
      "execution_count": null,
      "outputs": [
        {
          "output_type": "stream",
          "name": "stdout",
          "text": [
            "enter integer =9\n",
            "9\n",
            "enter float = 0\n",
            "0.0\n",
            "enter boolean = 0\n",
            "True\n"
          ]
        }
      ]
    },
    {
      "cell_type": "code",
      "source": [
        "# 10. Write code to demonstrate type casting with list elements.\n",
        "\n",
        "l = [1 , True , 5.0 ,\"2\"]\n",
        "for i in l :\n",
        "  x = type(i)\n",
        "  if x == int:\n",
        "    print(\"int = \",int(i))\n",
        "  elif x == float:\n",
        "    print(\"float to int =\",int(i))\n",
        "  elif x == str:\n",
        "    print(\"str to int =\",int(i))\n",
        "  else:\n",
        "    print(\"bool to int = \",int(i))\n",
        "\n",
        "\n",
        "\n"
      ],
      "metadata": {
        "colab": {
          "base_uri": "https://localhost:8080/"
        },
        "id": "ZUHoYRY4v4vg",
        "outputId": "2db4253b-6932-48cd-a2ba-0b726b6f943e"
      },
      "execution_count": null,
      "outputs": [
        {
          "output_type": "stream",
          "name": "stdout",
          "text": [
            "int =  1\n",
            "bool to int =  1\n",
            "float to int = 5\n",
            "str to int = 2\n"
          ]
        }
      ]
    },
    {
      "cell_type": "code",
      "source": [
        "# 11. Write a program that checks if a number is positive, negative, or zero.\n",
        "\n",
        "a = int(input(\"enter a number =\"))\n",
        "if(a>0):\n",
        "  print(\"number is positive\")\n",
        "elif(a<0):\n",
        "  print(\"number is negative\")\n",
        "else:\n",
        "  print(\"number is zero\")"
      ],
      "metadata": {
        "colab": {
          "base_uri": "https://localhost:8080/"
        },
        "id": "vzPg2k42v4yf",
        "outputId": "27d7115f-e08a-43c4-d21d-c1dc03d101ce"
      },
      "execution_count": null,
      "outputs": [
        {
          "output_type": "stream",
          "name": "stdout",
          "text": [
            "enter a number =-1\n",
            "number is negative\n"
          ]
        }
      ]
    },
    {
      "cell_type": "code",
      "source": [
        "# 12. Write a for loop to print numbers from 1 to 10.\n",
        "for i in range (1,11,1):\n",
        "  print(i)"
      ],
      "metadata": {
        "colab": {
          "base_uri": "https://localhost:8080/"
        },
        "id": "AtdXHYTRv41w",
        "outputId": "db691552-94a3-43b0-b012-a172070826aa"
      },
      "execution_count": null,
      "outputs": [
        {
          "output_type": "stream",
          "name": "stdout",
          "text": [
            "1\n",
            "2\n",
            "3\n",
            "4\n",
            "5\n",
            "6\n",
            "7\n",
            "8\n",
            "9\n",
            "10\n"
          ]
        }
      ]
    },
    {
      "cell_type": "code",
      "source": [
        "# 13. Write a Python program to find the sum of all even numbers between 1 and 50\n",
        "s = 0\n",
        "for i in range(1,51,1):\n",
        "  if i%2==0:\n",
        "    s+=1\n",
        "print(\"the sum of all even numbers between 1 and 50 is = \", s)"
      ],
      "metadata": {
        "colab": {
          "base_uri": "https://localhost:8080/"
        },
        "id": "8c85SQI6v45M",
        "outputId": "b2148888-ea89-461e-a9ad-600505480ad6"
      },
      "execution_count": null,
      "outputs": [
        {
          "output_type": "stream",
          "name": "stdout",
          "text": [
            "the sum of all even numbers between 1 and 50 is =  25\n"
          ]
        }
      ]
    },
    {
      "cell_type": "code",
      "source": [
        "# 14. Write a program to reverse a string using a while loop.\n",
        "a = \"sneha\"\n",
        "b = \"\"\n",
        "i = len(a)-1\n",
        "while(i>=0):\n",
        "  b += a[i]\n",
        "  i-=1\n",
        "print(b)"
      ],
      "metadata": {
        "colab": {
          "base_uri": "https://localhost:8080/"
        },
        "id": "lfqpLHqnx6QN",
        "outputId": "c35808f3-7946-48d3-b8ba-2ae7ad1908ee"
      },
      "execution_count": null,
      "outputs": [
        {
          "output_type": "stream",
          "name": "stdout",
          "text": [
            "ahens\n"
          ]
        }
      ]
    },
    {
      "cell_type": "code",
      "source": [
        "# 15. Write a Python program to calculate the factorial of a number provided by the user using a while loop\n",
        "n = int(input(\"enter a number = \"))\n",
        "i = n\n",
        "f = 1\n",
        "while(n>0):\n",
        "  f = f * n\n",
        "  n-=1\n",
        "\n",
        "print(\"factoriol of \",i,\" is = \",f)"
      ],
      "metadata": {
        "colab": {
          "base_uri": "https://localhost:8080/"
        },
        "id": "rWr2CZd2x6B7",
        "outputId": "773f638f-0175-4dfc-c39a-e1e9bf88d693"
      },
      "execution_count": null,
      "outputs": [
        {
          "output_type": "stream",
          "name": "stdout",
          "text": [
            "enter a number = 7\n",
            "factoriol of  7  is =  5040\n"
          ]
        }
      ]
    }
  ]
}